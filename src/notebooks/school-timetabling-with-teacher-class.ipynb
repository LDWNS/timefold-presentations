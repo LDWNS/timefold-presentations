{
 "cells": [
  {
   "cell_type": "markdown",
   "source": [
    "# School timetabling with Timefold in a Kotlin Notebook\n",
    "\n",
    "*With Teacher class variant*\n",
    "\n",
    "This Kotlin Jupyter Notebook solves a school timetabling problem with [Timefold](https://timefold.ai), the open source planning solver AI.\n",
    "It optimizes the school schedule for students and teachers.\n",
    "\n",
    "![School timetabling input output](https://timefold.ai/docs/timefold-solver/latest/_images/quickstart/school-timetabling/schoolTimetablingInputOutput.png)\n",
    "\n",
    "This Notebook automatically assigns each lesson to a timeslot and a room, while adhering to hard and soft constraints: \n",
    "\n",
    "* A room can have at most one lesson at the same time.\n",
    "* A teacher can teach at most one lesson at the same time.\n",
    "* A student can attend at most one lesson at the same time.\n",
    "* A teacher prefers to teach all lessons in the same room.\n",
    "* A teacher prefers to teach sequential lessons and dislikes gaps between lessons.\n",
    "* A student dislikes sequential lessons on the same subject.\n",
    "\n",
    "## Dependencies\n",
    "\n",
    "Add the Timefold solver dependency:"
   ],
   "metadata": {
    "collapsed": false
   }
  },
  {
   "cell_type": "code",
   "source": "@file:DependsOn(\"ai.timefold.solver:timefold-solver-core:1.10.0\")",
   "metadata": {
    "collapsed": false,
    "ExecuteTime": {
     "end_time": "2024-05-24T11:18:38.551994Z",
     "start_time": "2024-05-24T11:18:38.242189Z"
    }
   },
   "outputs": [],
   "execution_count": 1
  },
  {
   "cell_type": "markdown",
   "source": [
    "\n",
    "## Domain\n",
    "\n",
    "Create the domain data classes:\n",
    "\n",
    "### Room\n",
    "\n",
    "The `Room` class represents a location where lessons are taught, for example, `Room A` or `Room B`. For simplicity’s sake, all rooms are without capacity limits and they can accommodate all lessons."
   ],
   "metadata": {
    "collapsed": false
   }
  },
  {
   "cell_type": "code",
   "source": [
    "data class Room(\n",
    "    val name: String\n",
    ")"
   ],
   "metadata": {
    "collapsed": false,
    "ExecuteTime": {
     "end_time": "2024-05-24T11:18:38.704204Z",
     "start_time": "2024-05-24T11:18:38.554933Z"
    }
   },
   "outputs": [],
   "execution_count": 2
  },
  {
   "cell_type": "markdown",
   "source": [
    "### Timeslot\n",
    "\n",
    "The `Timeslot` class represents a time interval when lessons are taught, for example, `Monday 10:30 - 11:30` or `Tuesday 13:30 - 14:30`. For simplicity’s sake, all time slots have the same duration and there are no time slots during lunch or other breaks."
   ],
   "metadata": {
    "collapsed": false
   }
  },
  {
   "cell_type": "code",
   "source": [
    "import java.time.DayOfWeek\n",
    "import java.time.LocalTime\n",
    "\n",
    "data class Timeslot(\n",
    "    val dayOfWeek: DayOfWeek,\n",
    "    val startTime: LocalTime,\n",
    "    val endTime: LocalTime\n",
    ")"
   ],
   "metadata": {
    "collapsed": false,
    "ExecuteTime": {
     "end_time": "2024-05-24T11:18:38.774600Z",
     "start_time": "2024-05-24T11:18:38.705859Z"
    }
   },
   "outputs": [],
   "execution_count": 3
  },
  {
   "metadata": {},
   "cell_type": "markdown",
   "source": [
    "### Teacher\n",
    "\n",
    "The `Teacher` class represents a teacher, for example `A. Turing` or `M. Curie`."
   ]
  },
  {
   "metadata": {
    "ExecuteTime": {
     "end_time": "2024-05-24T11:18:38.820474Z",
     "start_time": "2024-05-24T11:18:38.776358Z"
    }
   },
   "cell_type": "code",
   "source": [
    "data class Teacher(\n",
    "    val name: String\n",
    ") {\n",
    "    override fun toString(): String = \"$name\"\n",
    "}"
   ],
   "outputs": [],
   "execution_count": 4
  },
  {
   "cell_type": "markdown",
   "source": [
    "### Lesson\n",
    "\n",
    "During a lesson, represented by the `Lesson` class, a teacher teaches a subject to a group of students, for example, `Math` by `A.Turing` for `9th grade` or `Chemistry` by `M.Curie` for `10th grade`. If a subject is taught multiple times per week by the same teacher to the same student group, there are multiple `Lesson` instances that are only distinguishable by `id`. For example, the 9th grade has six math lessons a week.\n",
    "\n",
    "During solving, Timefold Solver changes the `timeslot` and `room` fields of the `Lesson` class, to assign each lesson to a time slot and a room. Therefore, those fields are annnoted with `@PlanningVariable` and the class with `@PlanningEntity`:"
   ],
   "metadata": {
    "collapsed": false
   }
  },
  {
   "cell_type": "code",
   "source": [
    "import ai.timefold.solver.core.api.domain.entity.PlanningEntity\n",
    "import ai.timefold.solver.core.api.domain.lookup.PlanningId\n",
    "import ai.timefold.solver.core.api.domain.variable.PlanningVariable\n",
    "\n",
    "@PlanningEntity\n",
    "data class Lesson(\n",
    "\n",
    "    @PlanningId\n",
    "    val id: Long,\n",
    "    val subject: String,\n",
    "    val teacher: Teacher,\n",
    "    val studentGroup: String) {\n",
    "\n",
    "    @PlanningVariable\n",
    "    var timeslot: Timeslot? = null\n",
    "    @PlanningVariable\n",
    "    var room: Room? = null\n",
    "\n",
    "    // No-arg constructor required for Timefold\n",
    "    constructor() : this(0, \"\", Teacher(\"\"), \"\")\n",
    "\n",
    "    override fun toString(): String = \"$subject\"\n",
    "\n",
    "}"
   ],
   "metadata": {
    "collapsed": false,
    "ExecuteTime": {
     "end_time": "2024-05-24T11:18:39.001907Z",
     "start_time": "2024-05-24T11:18:38.859302Z"
    }
   },
   "outputs": [],
   "execution_count": 6
  },
  {
   "cell_type": "markdown",
   "source": [
    "## Constraints\n",
    "\n",
    "The solver takes into account hard and soft constraints:"
   ],
   "metadata": {
    "collapsed": false
   }
  },
  {
   "cell_type": "code",
   "source": [
    "import ai.timefold.solver.core.api.score.buildin.hardsoft.HardSoftScore\n",
    "import ai.timefold.solver.core.api.score.stream.Constraint\n",
    "import ai.timefold.solver.core.api.score.stream.ConstraintFactory\n",
    "import ai.timefold.solver.core.api.score.stream.ConstraintProvider\n",
    "import ai.timefold.solver.core.api.score.stream.Joiners\n",
    "import java.time.Duration\n",
    "\n",
    "class TimeTableConstraintProvider : ConstraintProvider {\n",
    "\n",
    "    override fun defineConstraints(constraintFactory: ConstraintFactory): Array<Constraint>? {\n",
    "        return arrayOf(\n",
    "            // Hard constraints\n",
    "            roomConflict(constraintFactory),\n",
    "            teacherConflict(constraintFactory),\n",
    "            studentGroupConflict(constraintFactory),\n",
    "            // Soft constraints\n",
    "            teacherRoomStability(constraintFactory),\n",
    "            teacherTimeEfficiency(constraintFactory),\n",
    "            studentGroupSubjectVariety(constraintFactory)\n",
    "        )\n",
    "    }\n",
    "\n",
    "    fun roomConflict(constraintFactory: ConstraintFactory): Constraint {\n",
    "        // A room can accommodate at most one lesson at the same time.\n",
    "        return constraintFactory\n",
    "            // Select each pair of 2 different lessons ...\n",
    "            .forEachUniquePair(\n",
    "                Lesson::class.java,\n",
    "                // ... in the same timeslot ...\n",
    "                Joiners.equal(Lesson::timeslot),\n",
    "                // ... in the same room ...\n",
    "                Joiners.equal(Lesson::room)\n",
    "            )\n",
    "            // ... and penalize each pair with a hard weight.\n",
    "            .penalize(HardSoftScore.ONE_HARD)\n",
    "            .asConstraint(\"school-timetabling\", \"Room conflict\");\n",
    "    }\n",
    "\n",
    "    fun teacherConflict(constraintFactory: ConstraintFactory): Constraint {\n",
    "        // A teacher can teach at most one lesson at the same time.\n",
    "        return constraintFactory\n",
    "            .forEachUniquePair(\n",
    "                Lesson::class.java,\n",
    "                Joiners.equal(Lesson::timeslot),\n",
    "                Joiners.equal(Lesson::teacher)\n",
    "            )\n",
    "            .penalize(HardSoftScore.ONE_HARD)\n",
    "            .asConstraint(\"school-timetabling\", \"Teacher conflict\");\n",
    "    }\n",
    "\n",
    "    fun studentGroupConflict(constraintFactory: ConstraintFactory): Constraint {\n",
    "        // A student can attend at most one lesson at the same time.\n",
    "        return constraintFactory\n",
    "            .forEachUniquePair(\n",
    "                Lesson::class.java,\n",
    "                Joiners.equal(Lesson::timeslot),\n",
    "                Joiners.equal(Lesson::studentGroup)\n",
    "            )\n",
    "            .penalize(HardSoftScore.ONE_HARD)\n",
    "            .asConstraint(\"school-timetabling\", \"Student group conflict\");\n",
    "    }\n",
    "\n",
    "    fun teacherRoomStability(constraintFactory: ConstraintFactory): Constraint {\n",
    "        // A teacher prefers to teach in a single room.\n",
    "        return constraintFactory\n",
    "            .forEachUniquePair(\n",
    "                Lesson::class.java,\n",
    "                Joiners.equal(Lesson::teacher)\n",
    "            )\n",
    "            .filter { lesson1: Lesson, lesson2: Lesson -> lesson1.room !== lesson2.room }\n",
    "            .penalize(HardSoftScore.ONE_SOFT)\n",
    "            .asConstraint(\"school-timetabling\", \"Teacher room stability\");\n",
    "    }\n",
    "\n",
    "    fun teacherTimeEfficiency(constraintFactory: ConstraintFactory): Constraint {\n",
    "        // A teacher prefers to teach sequential lessons and dislikes gaps between lessons.\n",
    "        return constraintFactory\n",
    "            .forEach(Lesson::class.java)\n",
    "            .join(Lesson::class.java,\n",
    "                Joiners.equal(Lesson::teacher),\n",
    "                Joiners.equal { lesson: Lesson -> lesson.timeslot?.dayOfWeek })\n",
    "            .filter { lesson1: Lesson, lesson2: Lesson ->\n",
    "                val between = Duration.between(\n",
    "                    lesson1.timeslot?.endTime,\n",
    "                    lesson2.timeslot?.startTime\n",
    "                )\n",
    "                !between.isNegative && between.compareTo(Duration.ofMinutes(30)) <= 0\n",
    "            }\n",
    "            .reward(HardSoftScore.ONE_SOFT)\n",
    "            .asConstraint(\"school-timetabling\", \"Teacher time efficiency\");\n",
    "    }\n",
    "\n",
    "    fun studentGroupSubjectVariety(constraintFactory: ConstraintFactory): Constraint {\n",
    "        // A student group dislikes sequential lessons on the same subject.\n",
    "        return constraintFactory\n",
    "            .forEach(Lesson::class.java)\n",
    "            .join(Lesson::class.java,\n",
    "                Joiners.equal(Lesson::subject),\n",
    "                Joiners.equal(Lesson::studentGroup),\n",
    "                Joiners.equal { lesson: Lesson -> lesson.timeslot?.dayOfWeek })\n",
    "            .filter { lesson1: Lesson, lesson2: Lesson ->\n",
    "                val between = Duration.between(\n",
    "                    lesson1.timeslot?.endTime,\n",
    "                        lesson2.timeslot?.startTime\n",
    "                )\n",
    "                !between.isNegative && between.compareTo(Duration.ofMinutes(30)) <= 0\n",
    "            }\n",
    "            .penalize(HardSoftScore.ONE_SOFT)\n",
    "            .asConstraint(\"school-timetabling\", \"Student group subject variety\");\n",
    "    }\n",
    "\n",
    "}"
   ],
   "metadata": {
    "collapsed": false,
    "ExecuteTime": {
     "end_time": "2024-05-24T11:18:39.669304Z",
     "start_time": "2024-05-24T11:18:39.003362Z"
    }
   },
   "outputs": [],
   "execution_count": 7
  },
  {
   "cell_type": "markdown",
   "source": [
    "### TimeTable\n",
    "\n",
    "The `TimeTable` class represents a single dataset. It wraps all `Timeslot`, `Room`, and `Lesson` instances. Furthermore, because it contains all lessons, each with a specific planning variable state, it is a planning solution, and it has a `score` field:"
   ],
   "metadata": {
    "collapsed": false
   }
  },
  {
   "cell_type": "code",
   "source": [
    "import ai.timefold.solver.core.api.domain.solution.PlanningEntityCollectionProperty\n",
    "import ai.timefold.solver.core.api.domain.solution.PlanningScore\n",
    "import ai.timefold.solver.core.api.domain.solution.PlanningSolution\n",
    "import ai.timefold.solver.core.api.domain.solution.ProblemFactCollectionProperty\n",
    "import ai.timefold.solver.core.api.domain.valuerange.ValueRangeProvider\n",
    "import ai.timefold.solver.core.api.score.buildin.hardsoft.HardSoftScore\n",
    "\n",
    "@PlanningSolution\n",
    "data class TimeTable(\n",
    "\n",
    "    @ProblemFactCollectionProperty\n",
    "    @ValueRangeProvider\n",
    "    val timeslots: List<Timeslot>,\n",
    "    @ProblemFactCollectionProperty\n",
    "    @ValueRangeProvider\n",
    "    val rooms: List<Room>,\n",
    "    @PlanningEntityCollectionProperty\n",
    "    val lessons: List<Lesson>) {\n",
    "\n",
    "    @PlanningScore\n",
    "    var score: HardSoftScore? = null\n",
    "\n",
    "    // No-arg constructor required for Timefold\n",
    "    constructor() : this(emptyList(), emptyList(), emptyList())\n",
    "\n",
    "}"
   ],
   "metadata": {
    "collapsed": false,
    "ExecuteTime": {
     "end_time": "2024-05-24T11:18:39.743669Z",
     "start_time": "2024-05-24T11:18:39.671955Z"
    }
   },
   "outputs": [],
   "execution_count": 8
  },
  {
   "cell_type": "markdown",
   "source": [
    "## Data generator\n",
    "\n",
    "Generate some data for a small school timetable:"
   ],
   "metadata": {
    "collapsed": false
   }
  },
  {
   "cell_type": "code",
   "source": [
    "fun generateDemoData(): TimeTable {\n",
    "    val timeslots: MutableList<Timeslot> = mutableListOf(\n",
    "            Timeslot(DayOfWeek.MONDAY, LocalTime.of(8, 30), LocalTime.of(9, 30)),\n",
    "            Timeslot(DayOfWeek.MONDAY, LocalTime.of(9, 30), LocalTime.of(10, 30)),\n",
    "            Timeslot(DayOfWeek.MONDAY, LocalTime.of(10, 30), LocalTime.of(11, 30)),\n",
    "            Timeslot(DayOfWeek.MONDAY, LocalTime.of(13, 30), LocalTime.of(14, 30)),\n",
    "            Timeslot(DayOfWeek.MONDAY, LocalTime.of(14, 30), LocalTime.of(15, 30)),\n",
    "    \n",
    "            Timeslot(DayOfWeek.TUESDAY, LocalTime.of(8, 30), LocalTime.of(9, 30)),\n",
    "            Timeslot(DayOfWeek.TUESDAY, LocalTime.of(9, 30), LocalTime.of(10, 30)),\n",
    "            Timeslot(DayOfWeek.TUESDAY, LocalTime.of(10, 30), LocalTime.of(11, 30)),\n",
    "            Timeslot(DayOfWeek.TUESDAY, LocalTime.of(13, 30), LocalTime.of(14, 30)),\n",
    "            Timeslot(DayOfWeek.TUESDAY, LocalTime.of(14, 30), LocalTime.of(15, 30)))\n",
    "    \n",
    "    val rooms: MutableList<Room> = mutableListOf(\n",
    "            Room(\"Room A\"),\n",
    "            Room(\"Room B\"),\n",
    "            Room(\"Room C\"))\n",
    "    \n",
    "    val turing = Teacher(\"A. Turing\")\n",
    "    val curie = Teacher(\"M. Curie\")\n",
    "    val darwin = Teacher(\"C. Darwin\")\n",
    "    val jones = Teacher(\"I. Jones\")\n",
    "    val cruz = Teacher(\"P. Cruz\")\n",
    "    var nextId: Long = 0\n",
    "    val lessons: MutableList<Lesson> = mutableListOf(\n",
    "        Lesson(nextId++, \"Math\", turing, \"9th grade\"),\n",
    "        Lesson(nextId++, \"Math\", turing, \"9th grade\"),\n",
    "        Lesson(nextId++, \"Physics\", curie, \"9th grade\"),\n",
    "        Lesson(nextId++, \"Chemistry\", curie, \"9th grade\"),\n",
    "        Lesson(nextId++, \"Biology\", darwin, \"9th grade\"),\n",
    "        Lesson(nextId++, \"History\", jones, \"9th grade\"),\n",
    "        Lesson(nextId++, \"English\", jones, \"9th grade\"),\n",
    "        Lesson(nextId++, \"English\", jones, \"9th grade\"),\n",
    "        Lesson(nextId++, \"Spanish\", cruz, \"9th grade\"),\n",
    "        Lesson(nextId++, \"Spanish\", cruz, \"9th grade\"),\n",
    "        Lesson(nextId++, \"Math\", turing, \"10th grade\"),\n",
    "        Lesson(nextId++, \"Math\", turing, \"10th grade\"),\n",
    "        Lesson(nextId++, \"Math\", turing, \"10th grade\"),\n",
    "        Lesson(nextId++, \"Physics\", curie, \"10th grade\"),\n",
    "        Lesson(nextId++, \"Chemistry\", curie, \"10th grade\"),\n",
    "        Lesson(nextId++, \"French\", curie, \"10th grade\"),\n",
    "        Lesson(nextId++, \"Geography\", darwin, \"10th grade\"),\n",
    "        Lesson(nextId++, \"History\", jones, \"10th grade\"),\n",
    "        Lesson(nextId++, \"English\", cruz, \"10th grade\"),\n",
    "        Lesson(nextId++, \"Spanish\", cruz, \"10th grade\"))\n",
    "    return TimeTable(timeslots, rooms, lessons)\n",
    "}"
   ],
   "metadata": {
    "collapsed": false,
    "ExecuteTime": {
     "end_time": "2024-05-24T11:18:39.966045Z",
     "start_time": "2024-05-24T11:18:39.744925Z"
    }
   },
   "outputs": [
    {
     "name": "stderr",
     "output_type": "stream",
     "text": [
      "Line_9.jupyter.kts (46:16 - 24) The value changed at 'nextId++' is never used\n",
      "java.lang.InterruptedException"
     ]
    }
   ],
   "execution_count": 9
  },
  {
   "cell_type": "markdown",
   "source": [
    "## Solve it\n",
    "\n",
    "Configure and run the solver:"
   ],
   "metadata": {
    "collapsed": false
   }
  },
  {
   "cell_type": "code",
   "source": [
    "import ai.timefold.solver.core.config.solver.SolverConfig\n",
    "import ai.timefold.solver.core.api.solver.SolverFactory\n",
    "import ai.timefold.solver.core.api.solver.Solver\n",
    "\n",
    "val solverFactory: SolverFactory<TimeTable> = SolverFactory.create(SolverConfig()\n",
    "        .withSolutionClass(TimeTable::class.java)\n",
    "        .withEntityClasses(Lesson::class.java)\n",
    "        .withConstraintProviderClass(TimeTableConstraintProvider::class.java)\n",
    "        // The solver runs only for 5 seconds on this small dataset.\n",
    "        // It's recommended to run for at least 5 minutes (\"5m\") otherwise.\n",
    "        .withTerminationSpentLimit(Duration.ofSeconds(5)))\n",
    "\n",
    "val problem: TimeTable = generateDemoData()\n",
    "\n",
    "println(\"Solving the problem ...\")\n",
    "val solver: Solver<TimeTable> = solverFactory.buildSolver()\n",
    "val solution: TimeTable = solver.solve(problem)\n",
    "println(\"Solving finished with score (${solution.score}).\")"
   ],
   "metadata": {
    "collapsed": false,
    "ExecuteTime": {
     "end_time": "2024-05-24T11:18:40.019905Z",
     "start_time": "2024-05-24T11:18:39.968961Z"
    }
   },
   "outputs": [
    {
     "name": "stderr",
     "output_type": "stream",
     "text": [
      "Backend Internal error: Exception during psi2ir\n",
      "File being compiled: (13,26) in Line_10.jupyter.kts\n",
      "The root cause java.lang.IllegalStateException was thrown at: org.jetbrains.kotlin.ir.util.DescriptorSymbolTableExtension.referenceValueParameter(DescriptorSymbolTableExtension.kt:404)\n",
      "Undefined parameter referenced: class Line_9_jupyter::this\n",
      "owner=PROPERTY name:problem visibility:public modality:FINAL [val]; []\n",
      "owner=SCRIPT; [class Line_4_jupyter::this, class Line_7_jupyter::this, class Line_2_jupyter::this, class Line_0_jupyter::this, class Line_1_jupyter::this, class Line_8_jupyter::this, class Line_3_jupyter::this, class Line_10_jupyter::this, class Line_5_jupyter::this, class Line_6_jupyter::this]\n",
      ": KtCallExpression:\n",
      "generateDemoData()"
     ]
    }
   ],
   "execution_count": 10
  },
  {
   "cell_type": "markdown",
   "source": [
    "## Visualize the schedule\n",
    "\n",
    "Show the timetable:"
   ],
   "metadata": {
    "collapsed": false
   }
  },
  {
   "cell_type": "code",
   "source": [
    "val lessonByRoomMap = solution.lessons.groupBy { lesson -> Pair(lesson.timeslot, lesson.room) }\n",
    "val lessonByTeacherMap = solution.lessons.groupBy { lesson -> Pair(lesson.timeslot, lesson.teacher) }\n",
    "val lessonByStudentGroupMap = solution.lessons.groupBy { lesson -> Pair(lesson.timeslot, lesson.studentGroup) }\n",
    "HTML(buildString {\n",
    "    append(\"<p style='font-size: x-large'>Score: ${solution.score}</p>\")\n",
    "    append(\"<p><b>By room</b></p>\")\n",
    "    append(\"<table><tr><th/>\")\n",
    "    for (room in solution.rooms) {\n",
    "        append(\"<th>${room.name}</th>\")\n",
    "    }\n",
    "    append(\"</tr>\")\n",
    "    for (timeslot in solution.timeslots) {\n",
    "        append(\"<tr><th>${timeslot.dayOfWeek} ${timeslot.startTime} - ${timeslot.endTime}</th>\")\n",
    "        for (room in solution.rooms) {\n",
    "            val cellLessons = lessonByRoomMap.get(Pair(timeslot, room)) ?: emptyList()\n",
    "            append(\"<td>\")\n",
    "            append(cellLessons.map { it.subject }.joinToString(\", \"))\n",
    "            append(\"</td>\")\n",
    "        }\n",
    "        append(\"</tr>\")\n",
    "    }\n",
    "    append(\"</table>\")\n",
    "    append(\"<p><b>By teacher</b></p>\")\n",
    "    append(\"<table><tr><th/>\")\n",
    "    val teachers = solution.lessons.map { it.teacher }.distinct()\n",
    "    for (teacher in teachers) {\n",
    "        append(\"<th>${teacher}</th>\")\n",
    "    }\n",
    "    append(\"</tr>\")\n",
    "    for (timeslot in solution.timeslots) {\n",
    "        append(\"<tr><th>${timeslot.dayOfWeek} ${timeslot.startTime} - ${timeslot.endTime}</th>\")\n",
    "        for (teacher in teachers) {\n",
    "            val cellLessons = lessonByTeacherMap.get(Pair(timeslot, teacher)) ?: emptyList()\n",
    "            append(\"<td>\")\n",
    "            append(cellLessons.map { it.subject }.joinToString(\", \"))\n",
    "            append(\"</td>\")\n",
    "        }\n",
    "        append(\"</tr>\")\n",
    "    }\n",
    "    append(\"</table>\")\n",
    "    append(\"<p><b>By student group</b></p>\")\n",
    "    append(\"<table><tr><th/>\")\n",
    "    val studentGroups = solution.lessons.map { it.studentGroup }.distinct()\n",
    "    for (studentGroup in studentGroups) {\n",
    "        append(\"<th>${studentGroup}</th>\")\n",
    "    }\n",
    "    append(\"</tr>\")\n",
    "    for (timeslot in solution.timeslots) {\n",
    "        append(\"<tr><th>${timeslot.dayOfWeek} ${timeslot.startTime} - ${timeslot.endTime}</th>\")\n",
    "        for (studentGroup in studentGroups) {\n",
    "            val cellLessons = lessonByStudentGroupMap.get(Pair(timeslot, studentGroup)) ?: emptyList()\n",
    "            append(\"<td>\")\n",
    "            append(cellLessons.map { it.subject }.joinToString(\", \"))\n",
    "            append(\"</td>\")\n",
    "        }\n",
    "        append(\"</tr>\")\n",
    "    }\n",
    "    append(\"</table>\")\n",
    "\n",
    "    val unassignedLessons = lessonByRoomMap.get(Pair(null, null))\n",
    "    if (unassignedLessons != null && unassignedLessons.isNotEmpty()) {\n",
    "        append(\"<p>Unassigned lessons</p>\")\n",
    "        append(\"<ul>\")\n",
    "        for (lesson in unassignedLessons) {\n",
    "            append(\"<li>${lesson.subject} - ${lesson.teacher} - ${lesson.studentGroup}</li>\")\n",
    "        }\n",
    "        append(\"</ul>\")\n",
    "    }\n",
    "})"
   ],
   "metadata": {
    "collapsed": false,
    "ExecuteTime": {
     "end_time": "2024-05-24T11:18:40.278455Z",
     "start_time": "2024-05-24T11:18:40.021072Z"
    }
   },
   "outputs": [
    {
     "name": "stderr",
     "output_type": "stream",
     "text": [
      "Backend Internal error: Exception during psi2ir\n",
      "File being compiled: Line_11.jupyter.kts\n",
      "The root cause java.lang.IllegalStateException was thrown at: org.jetbrains.kotlin.ir.util.SymbolTableSlice$Scoped.introduceLocal(SymbolTableSlice.kt:208)"
     ]
    }
   ],
   "execution_count": 11
  },
  {
   "cell_type": "markdown",
   "source": [
    "## Statistics\n",
    "\n",
    "For a big dataset, a schedule visualization is often too verbose.\n",
    "Let's visualize the solution through statistics:"
   ],
   "metadata": {
    "collapsed": false
   }
  },
  {
   "cell_type": "code",
   "source": [
    "%use kandy"
   ],
   "metadata": {
    "collapsed": false,
    "ExecuteTime": {
     "end_time": "2024-05-24T11:18:42.873464Z",
     "start_time": "2024-05-24T11:18:40.279805Z"
    }
   },
   "outputs": [
    {
     "name": "stderr",
     "output_type": "stream",
     "text": [
      "The problem is found in one of the loaded libraries: check library imports, dependencies and repositories\n",
      "Error compiling code:\n",
      "@file:Repository(\"https://packages.jetbrains.team/maven/p/kds/kotlin-ds-maven\")\n",
      "@file:DependsOn(\"org.jetbrains.kotlinx:kandy-lets-plot:0.6.0\")\n",
      "@file:DependsOn(\"org.jetbrains.kotlinx:kotlin-statistics-jvm:0.2.1\")\n",
      "\n",
      "\n",
      "Errors:\n",
      "Backend Internal error: Exception during psi2ir\n",
      "File being compiled: Line_12.jupyter.kts\n",
      "The root cause java.lang.IllegalStateException was thrown at: org.jetbrains.kotlin.ir.util.SymbolTableSlice$Scoped.introduceLocal(SymbolTableSlice.kt:208)\n",
      "\n",
      "org.jetbrains.kotlinx.jupyter.exceptions.ReplLibraryException: The problem is found in one of the loaded libraries: check library imports, dependencies and repositories\n",
      "\tat org.jetbrains.kotlinx.jupyter.exceptions.ReplLibraryExceptionKt.rethrowAsLibraryException(ReplLibraryException.kt:38)\n",
      "\tat org.jetbrains.kotlinx.jupyter.repl.impl.CellExecutorImpl$ExecutionContext.doAddLibraries(CellExecutorImpl.kt:158)\n",
      "\tat org.jetbrains.kotlinx.jupyter.repl.impl.CellExecutorImpl$ExecutionContext.addLibraries(CellExecutorImpl.kt:193)\n",
      "\tat org.jetbrains.kotlinx.jupyter.api.KotlinKernelHost$DefaultImpls.addLibrary(KotlinKernelHost.kt:48)\n",
      "\tat org.jetbrains.kotlinx.jupyter.repl.impl.CellExecutorImpl$ExecutionContext.addLibrary(CellExecutorImpl.kt:139)\n",
      "\tat org.jetbrains.kotlinx.jupyter.repl.impl.CellExecutorImpl.execute(CellExecutorImpl.kt:64)\n",
      "\tat org.jetbrains.kotlinx.jupyter.repl.execution.CellExecutor$DefaultImpls.execute$default(CellExecutor.kt:12)\n",
      "\tat org.jetbrains.kotlinx.jupyter.repl.impl.ReplForJupyterImpl.evaluateUserCode(ReplForJupyterImpl.kt:571)\n",
      "\tat org.jetbrains.kotlinx.jupyter.repl.impl.ReplForJupyterImpl.access$evaluateUserCode(ReplForJupyterImpl.kt:135)\n",
      "\tat org.jetbrains.kotlinx.jupyter.repl.impl.ReplForJupyterImpl$evalEx$1.invoke(ReplForJupyterImpl.kt:429)\n",
      "\tat org.jetbrains.kotlinx.jupyter.repl.impl.ReplForJupyterImpl$evalEx$1.invoke(ReplForJupyterImpl.kt:426)\n",
      "\tat org.jetbrains.kotlinx.jupyter.repl.impl.ReplForJupyterImpl.withEvalContext(ReplForJupyterImpl.kt:407)\n",
      "\tat org.jetbrains.kotlinx.jupyter.repl.impl.ReplForJupyterImpl.evalEx(ReplForJupyterImpl.kt:426)\n",
      "\tat org.jetbrains.kotlinx.jupyter.messaging.IdeCompatibleMessageRequestProcessor$processExecuteRequest$1$response$1$1.invoke(IdeCompatibleMessageRequestProcessor.kt:139)\n",
      "\tat org.jetbrains.kotlinx.jupyter.messaging.IdeCompatibleMessageRequestProcessor$processExecuteRequest$1$response$1$1.invoke(IdeCompatibleMessageRequestProcessor.kt:138)\n",
      "\tat org.jetbrains.kotlinx.jupyter.execution.JupyterExecutorImpl$Task.execute(JupyterExecutorImpl.kt:42)\n",
      "\tat org.jetbrains.kotlinx.jupyter.execution.JupyterExecutorImpl$executorThread$1.invoke(JupyterExecutorImpl.kt:82)\n",
      "\tat org.jetbrains.kotlinx.jupyter.execution.JupyterExecutorImpl$executorThread$1.invoke(JupyterExecutorImpl.kt:80)\n",
      "\tat kotlin.concurrent.ThreadsKt$thread$thread$1.run(Thread.kt:30)\n",
      "Caused by: org.jetbrains.kotlinx.jupyter.exceptions.ReplCompilerException: Backend Internal error: Exception during psi2ir\n",
      "File being compiled: Line_12.jupyter.kts\n",
      "The root cause java.lang.IllegalStateException was thrown at: org.jetbrains.kotlin.ir.util.SymbolTableSlice$Scoped.introduceLocal(SymbolTableSlice.kt:208)\n",
      "\tat org.jetbrains.kotlinx.jupyter.repl.impl.JupyterCompilerImpl.compileSync(JupyterCompilerImpl.kt:201)\n",
      "\tat org.jetbrains.kotlinx.jupyter.repl.impl.InternalEvaluatorImpl.eval(InternalEvaluatorImpl.kt:120)\n",
      "\tat org.jetbrains.kotlinx.jupyter.repl.impl.CellExecutorImpl$execute$1$result$1.invoke(CellExecutorImpl.kt:80)\n",
      "\tat org.jetbrains.kotlinx.jupyter.repl.impl.CellExecutorImpl$execute$1$result$1.invoke(CellExecutorImpl.kt:78)\n",
      "\tat org.jetbrains.kotlinx.jupyter.repl.impl.ReplForJupyterImpl.withHost(ReplForJupyterImpl.kt:748)\n",
      "\tat org.jetbrains.kotlinx.jupyter.repl.impl.CellExecutorImpl.execute(CellExecutorImpl.kt:78)\n",
      "\tat org.jetbrains.kotlinx.jupyter.repl.execution.CellExecutor$DefaultImpls.execute$default(CellExecutor.kt:12)\n",
      "\tat org.jetbrains.kotlinx.jupyter.repl.impl.CellExecutorImpl$ExecutionContext.execute(CellExecutorImpl.kt:240)\n",
      "\tat org.jetbrains.kotlinx.jupyter.api.libraries.CodeExecutionCallback.invoke(CodeExecutionCallback.kt:8)\n",
      "\tat org.jetbrains.kotlinx.jupyter.api.libraries.CodeExecutionCallback.invoke(CodeExecutionCallback.kt:6)\n",
      "\tat org.jetbrains.kotlinx.jupyter.repl.impl.CellExecutorImpl$ExecutionContext.execute(CellExecutorImpl.kt:273)\n",
      "\tat org.jetbrains.kotlinx.jupyter.repl.impl.CellExecutorImpl$ExecutionContext.runChild(CellExecutorImpl.kt:151)\n",
      "\tat org.jetbrains.kotlinx.jupyter.repl.impl.CellExecutorImpl$ExecutionContext.runChild(CellExecutorImpl.kt:147)\n",
      "\tat org.jetbrains.kotlinx.jupyter.repl.impl.CellExecutorImpl$ExecutionContext.access$runChild(CellExecutorImpl.kt:139)\n",
      "\tat org.jetbrains.kotlinx.jupyter.repl.impl.CellExecutorImpl$ExecutionContext$doAddLibraries$1.invoke(CellExecutorImpl.kt:159)\n",
      "\tat org.jetbrains.kotlinx.jupyter.repl.impl.CellExecutorImpl$ExecutionContext$doAddLibraries$1.invoke(CellExecutorImpl.kt:158)\n",
      "\tat org.jetbrains.kotlinx.jupyter.exceptions.ReplLibraryExceptionKt.rethrowAsLibraryException(ReplLibraryException.kt:36)\n",
      "\t... 18 more\n",
      "Caused by: org.jetbrains.kotlin.backend.common.BackendException: Backend Internal error: Exception during psi2ir\n",
      "File being compiled: Line_12.jupyter.kts\n",
      "The root cause java.lang.IllegalStateException was thrown at: org.jetbrains.kotlin.ir.util.SymbolTableSlice$Scoped.introduceLocal(SymbolTableSlice.kt:208)\n",
      "\tat org.jetbrains.kotlin.backend.common.CodegenUtil.reportBackendException(CodegenUtil.kt:253)\n",
      "\tat org.jetbrains.kotlin.backend.common.CodegenUtil.reportBackendException$default(CodegenUtil.kt:237)\n",
      "\tat org.jetbrains.kotlin.psi2ir.generators.DeclarationGenerator.generateMemberDeclaration(DeclarationGenerator.kt:79)\n",
      "\tat org.jetbrains.kotlin.psi2ir.generators.ModuleGenerator.generateSingleFile(ModuleGenerator.kt:73)\n",
      "\tat org.jetbrains.kotlin.psi2ir.generators.ModuleGenerator.generateModuleFragment(ModuleGenerator.kt:53)\n",
      "\tat org.jetbrains.kotlin.psi2ir.Psi2IrTranslator.generateModuleFragment(Psi2IrTranslator.kt:97)\n",
      "\tat org.jetbrains.kotlin.backend.jvm.JvmIrCodegenFactory.convertToIr(JvmIrCodegenFactory.kt:255)\n",
      "\tat org.jetbrains.kotlin.scripting.compiler.plugin.impl.KJvmReplCompilerBase.generateWithBackendIr(KJvmReplCompilerBase.kt:218)\n",
      "\tat org.jetbrains.kotlin.scripting.compiler.plugin.impl.KJvmReplCompilerBase.compile$suspendImpl(KJvmReplCompilerBase.kt:150)\n",
      "\tat org.jetbrains.kotlin.scripting.compiler.plugin.impl.KJvmReplCompilerBase.compile(KJvmReplCompilerBase.kt)\n",
      "\tat kotlin.script.experimental.api.ReplCompiler.compile$suspendImpl(replCompilation.kt:49)\n",
      "\tat kotlin.script.experimental.api.ReplCompiler.compile(replCompilation.kt)\n",
      "\tat org.jetbrains.kotlinx.jupyter.repl.impl.JupyterCompilerImpl$compileSync$resultWithDiagnostics$1.invokeSuspend(JupyterCompilerImpl.kt:200)\n",
      "\tat kotlin.coroutines.jvm.internal.BaseContinuationImpl.resumeWith(ContinuationImpl.kt:33)\n",
      "\tat kotlinx.coroutines.DispatchedTask.run(DispatchedTask.kt:104)\n",
      "\tat kotlinx.coroutines.EventLoopImplBase.processNextEvent(EventLoop.common.kt:277)\n",
      "\tat kotlinx.coroutines.BlockingCoroutine.joinBlocking(Builders.kt:95)\n",
      "\tat kotlinx.coroutines.BuildersKt__BuildersKt.runBlocking(Builders.kt:69)\n",
      "\tat kotlinx.coroutines.BuildersKt.runBlocking(Unknown Source)\n",
      "\tat kotlinx.coroutines.BuildersKt__BuildersKt.runBlocking$default(Builders.kt:48)\n",
      "\tat kotlinx.coroutines.BuildersKt.runBlocking$default(Unknown Source)\n",
      "\tat org.jetbrains.kotlinx.jupyter.repl.impl.JupyterCompilerImpl.compileSync(JupyterCompilerImpl.kt:200)\n",
      "\t... 34 more\n",
      "Caused by: java.lang.IllegalStateException: class Line_0_jupyter::this is already bound to VALUE_PARAMETER INSTANCE_RECEIVER name:<this> type:<root>.Line_0_jupyter\n",
      "\tat org.jetbrains.kotlin.ir.util.SymbolTableSlice$Scoped.introduceLocal(SymbolTableSlice.kt:208)\n",
      "\tat org.jetbrains.kotlin.ir.util.DescriptorSymbolTableExtension.introduceValueParameter(DescriptorSymbolTableExtension.kt:399)\n",
      "\tat org.jetbrains.kotlin.psi2ir.generators.ScriptGenerator.generateScriptDeclaration(ScriptGenerator.kt:97)\n",
      "\tat org.jetbrains.kotlin.psi2ir.generators.DeclarationGenerator.generateMemberDeclaration(DeclarationGenerator.kt:58)\n",
      "\t... 53 more\n",
      "\n"
     ]
    }
   ],
   "execution_count": 12
  },
  {
   "cell_type": "markdown",
   "source": [
    "### Lessons per teacher per weekday"
   ],
   "metadata": {
    "collapsed": false
   }
  },
  {
   "cell_type": "code",
   "source": [
    "val teacherToLessonsMap = solution.lessons.groupBy {it.teacher}\n",
    "val teachers = teacherToLessonsMap.keys.distinct()\n",
    "val dayOfWeeks = enumValues<DayOfWeek>().toList()\n",
    "val lessonCounts = dayOfWeeks.flatMap { dayOfWeek ->\n",
    "    teachers.map { teacher ->\n",
    "        (teacherToLessonsMap[teacher] ?: emptyList())\n",
    "            .count { it.timeslot?.dayOfWeek == dayOfWeek }\n",
    "    }\n",
    "}\n",
    "\n",
    "val dataset = mapOf(\n",
    "    \"Teacher\" to List(dayOfWeeks.size) { teachers }.flatten().map { it.name },\n",
    "    \"Lessons\" to lessonCounts,\n",
    "    \"Weekday\" to dayOfWeeks.flatMap { dayOfWeek -> List(teachers.size) { dayOfWeek } }\n",
    ")\n",
    "\n",
    "dataset.plot {\n",
    "    layout.title = \"Lessons per teacher per weekday\"\n",
    "    groupBy(\"Weekday\") {\n",
    "        barsH {\n",
    "            y(\"Teacher\")\n",
    "            x(\"Lessons\")\n",
    "            fillColor(\"Weekday\") {\n",
    "                scale = categoricalColorHue()\n",
    "            }\n",
    "            position = Position.stack()\n",
    "        }\n",
    "    }\n",
    "}"
   ],
   "metadata": {
    "collapsed": false,
    "ExecuteTime": {
     "end_time": "2024-05-24T11:18:43.019394Z",
     "start_time": "2024-05-24T11:18:42.875409Z"
    }
   },
   "outputs": [
    {
     "name": "stderr",
     "output_type": "stream",
     "text": [
      "Line_13.jupyter.kts (17:9 - 13) Unresolved reference: plot\n",
      "Line_13.jupyter.kts (18:5 - 11) Unresolved reference: layout\n",
      "Line_13.jupyter.kts (18:12 - 17) Variable expected\n",
      "Line_13.jupyter.kts (19:5 - 12) Unresolved reference. None of the following candidates is applicable because of receiver type mismatch: \n",
      "public inline fun <T, K> Array<out TypeVariable(T)>.groupBy(keySelector: (TypeVariable(T)) -> TypeVariable(K)): Map<TypeVariable(K), List<TypeVariable(T)>> defined in kotlin.collections\n",
      "public inline fun <T, K, V> Array<out TypeVariable(T)>.groupBy(keySelector: (TypeVariable(T)) -> TypeVariable(K), valueTransform: (TypeVariable(T)) -> TypeVariable(V)): Map<TypeVariable(K), List<TypeVariable(V)>> defined in kotlin.collections\n",
      "public inline fun <K> BooleanArray.groupBy(keySelector: (Boolean) -> TypeVariable(K)): Map<TypeVariable(K), List<Boolean>> defined in kotlin.collections\n",
      "public inline fun <K, V> BooleanArray.groupBy(keySelector: (Boolean) -> TypeVariable(K), valueTransform: (Boolean) -> TypeVariable(V)): Map<TypeVariable(K), List<TypeVariable(V)>> defined in kotlin.collections\n",
      "public inline fun <K> ByteArray.groupBy(keySelector: (Byte) -> TypeVariable(K)): Map<TypeVariable(K), List<Byte>> defined in kotlin.collections\n",
      "public inline fun <K, V> ByteArray.groupBy(keySelector: (Byte) -> TypeVariable(K), valueTransform: (Byte) -> TypeVariable(V)): Map<TypeVariable(K), List<TypeVariable(V)>> defined in kotlin.collections\n",
      "public inline fun <K> CharArray.groupBy(keySelector: (Char) -> TypeVariable(K)): Map<TypeVariable(K), List<Char>> defined in kotlin.collections\n",
      "public inline fun <K, V> CharArray.groupBy(keySelector: (Char) -> TypeVariable(K), valueTransform: (Char) -> TypeVariable(V)): Map<TypeVariable(K), List<TypeVariable(V)>> defined in kotlin.collections\n",
      "public inline fun <K> CharSequence.groupBy(keySelector: (Char) -> TypeVariable(K)): Map<TypeVariable(K), List<Char>> defined in kotlin.text\n",
      "public inline fun <K, V> CharSequence.groupBy(keySelector: (Char) -> TypeVariable(K), valueTransform: (Char) -> TypeVariable(V)): Map<TypeVariable(K), List<TypeVariable(V)>> defined in kotlin.text\n",
      "public inline fun <K> DoubleArray.groupBy(keySelector: (Double) -> TypeVariable(K)): Map<TypeVariable(K), List<Double>> defined in kotlin.collections\n",
      "public inline fun <K, V> DoubleArray.groupBy(keySelector: (Double) -> TypeVariable(K), valueTransform: (Double) -> TypeVariable(V)): Map<TypeVariable(K), List<TypeVariable(V)>> defined in kotlin.collections\n",
      "public inline fun <K> FloatArray.groupBy(keySelector: (Float) -> TypeVariable(K)): Map<TypeVariable(K), List<Float>> defined in kotlin.collections\n",
      "public inline fun <K, V> FloatArray.groupBy(keySelector: (Float) -> TypeVariable(K), valueTransform: (Float) -> TypeVariable(V)): Map<TypeVariable(K), List<TypeVariable(V)>> defined in kotlin.collections\n",
      "public inline fun <K> IntArray.groupBy(keySelector: (Int) -> TypeVariable(K)): Map<TypeVariable(K), List<Int>> defined in kotlin.collections\n",
      "public inline fun <K, V> IntArray.groupBy(keySelector: (Int) -> TypeVariable(K), valueTransform: (Int) -> TypeVariable(V)): Map<TypeVariable(K), List<TypeVariable(V)>> defined in kotlin.collections\n",
      "public inline fun <K> LongArray.groupBy(keySelector: (Long) -> TypeVariable(K)): Map<TypeVariable(K), List<Long>> defined in kotlin.collections\n",
      "public inline fun <K, V> LongArray.groupBy(keySelector: (Long) -> TypeVariable(K), valueTransform: (Long) -> TypeVariable(V)): Map<TypeVariable(K), List<TypeVariable(V)>> defined in kotlin.collections\n",
      "public inline fun <K> ShortArray.groupBy(keySelector: (Short) -> TypeVariable(K)): Map<TypeVariable(K), List<Short>> defined in kotlin.collections\n",
      "public inline fun <K, V> ShortArray.groupBy(keySelector: (Short) -> TypeVariable(K), valueTransform: (Short) -> TypeVariable(V)): Map<TypeVariable(K), List<TypeVariable(V)>> defined in kotlin.collections\n",
      "public inline fun <K> UByteArray.groupBy(keySelector: (UByte) -> TypeVariable(K)): Map<TypeVariable(K), List<UByte>> defined in kotlin.collections\n",
      "public inline fun <K, V> UByteArray.groupBy(keySelector: (UByte) -> TypeVariable(K), valueTransform: (UByte) -> TypeVariable(V)): Map<TypeVariable(K), List<TypeVariable(V)>> defined in kotlin.collections\n",
      "public inline fun <K> UIntArray.groupBy(keySelector: (UInt) -> TypeVariable(K)): Map<TypeVariable(K), List<UInt>> defined in kotlin.collections\n",
      "public inline fun <K, V> UIntArray.groupBy(keySelector: (UInt) -> TypeVariable(K), valueTransform: (UInt) -> TypeVariable(V)): Map<TypeVariable(K), List<TypeVariable(V)>> defined in kotlin.collections\n",
      "public inline fun <K> ULongArray.groupBy(keySelector: (ULong) -> TypeVariable(K)): Map<TypeVariable(K), List<ULong>> defined in kotlin.collections\n",
      "public inline fun <K, V> ULongArray.groupBy(keySelector: (ULong) -> TypeVariable(K), valueTransform: (ULong) -> TypeVariable(V)): Map<TypeVariable(K), List<TypeVariable(V)>> defined in kotlin.collections\n",
      "public inline fun <K> UShortArray.groupBy(keySelector: (UShort) -> TypeVariable(K)): Map<TypeVariable(K), List<UShort>> defined in kotlin.collections\n",
      "public inline fun <K, V> UShortArray.groupBy(keySelector: (UShort) -> TypeVariable(K), valueTransform: (UShort) -> TypeVariable(V)): Map<TypeVariable(K), List<TypeVariable(V)>> defined in kotlin.collections\n",
      "public inline fun <T, K> Iterable<TypeVariable(T)>.groupBy(keySelector: (TypeVariable(T)) -> TypeVariable(K)): Map<TypeVariable(K), List<TypeVariable(T)>> defined in kotlin.collections\n",
      "public inline fun <T, K, V> Iterable<TypeVariable(T)>.groupBy(keySelector: (TypeVariable(T)) -> TypeVariable(K), valueTransform: (TypeVariable(T)) -> TypeVariable(V)): Map<TypeVariable(K), List<TypeVariable(V)>> defined in kotlin.collections\n",
      "public inline fun <T, K> Sequence<TypeVariable(T)>.groupBy(keySelector: (TypeVariable(T)) -> TypeVariable(K)): Map<TypeVariable(K), List<TypeVariable(T)>> defined in kotlin.sequences\n",
      "public inline fun <T, K, V> Sequence<TypeVariable(T)>.groupBy(keySelector: (TypeVariable(T)) -> TypeVariable(K), valueTransform: (TypeVariable(T)) -> TypeVariable(V)): Map<TypeVariable(K), List<TypeVariable(V)>> defined in kotlin.sequences\n",
      "Line_13.jupyter.kts (20:9 - 14) Unresolved reference: barsH\n",
      "Line_13.jupyter.kts (21:13 - 14) Unresolved reference: y\n",
      "Line_13.jupyter.kts (22:13 - 14) Unresolved reference: x\n",
      "Line_13.jupyter.kts (23:13 - 22) Unresolved reference: fillColor\n",
      "Line_13.jupyter.kts (24:17 - 22) Unresolved reference: scale\n",
      "Line_13.jupyter.kts (24:25 - 44) Unresolved reference: categoricalColorHue\n",
      "Line_13.jupyter.kts (26:13 - 21) Unresolved reference: position\n",
      "Line_13.jupyter.kts (26:24 - 32) Unresolved reference: Position"
     ]
    }
   ],
   "execution_count": 13
  },
  {
   "metadata": {},
   "cell_type": "markdown",
   "source": "### Lessons per teacher per hour\n"
  },
  {
   "metadata": {
    "ExecuteTime": {
     "end_time": "2024-05-24T11:18:43.106236Z",
     "start_time": "2024-05-24T11:18:43.021305Z"
    }
   },
   "cell_type": "code",
   "source": [
    "val teacherToLessonsMap = solution.lessons.groupBy {it.teacher}\n",
    "val teachers = teacherToLessonsMap.keys.distinct()\n",
    "val startTimes = solution.timeslots.map { it.startTime.toString() }.distinct()\n",
    "val lessonCounts = startTimes.flatMap { startTime ->\n",
    "    teachers.map { teacher ->\n",
    "        (teacherToLessonsMap[teacher] ?: emptyList())\n",
    "            .count { it.timeslot?.startTime.toString() == startTime }\n",
    "    }\n",
    "}\n",
    "\n",
    "val dataset = mapOf(\n",
    "    \"Teacher\" to List(startTimes.size) { teachers }.flatten().map { it.name },\n",
    "    \"Lessons\" to lessonCounts,\n",
    "    \"Start time\" to startTimes.flatMap { startTime -> List(teachers.size) { startTime } }\n",
    ")\n",
    "\n",
    "dataset.plot {\n",
    "    layout.title = \"Lessons per teacher per hour\"\n",
    "    groupBy(\"Start time\") {\n",
    "        barsH {\n",
    "            y(\"Teacher\")\n",
    "            x(\"Lessons\")\n",
    "            fillColor(\"Start time\") {\n",
    "                scale = categoricalColorHue()\n",
    "            }\n",
    "            position = Position.stack()\n",
    "        }\n",
    "    }\n",
    "}"
   ],
   "outputs": [
    {
     "name": "stderr",
     "output_type": "stream",
     "text": [
      "Line_14.jupyter.kts (17:9 - 13) Unresolved reference: plot\n",
      "Line_14.jupyter.kts (18:5 - 11) Unresolved reference: layout\n",
      "Line_14.jupyter.kts (18:12 - 17) Variable expected\n",
      "Line_14.jupyter.kts (19:5 - 12) Unresolved reference. None of the following candidates is applicable because of receiver type mismatch: \n",
      "public inline fun <T, K> Array<out TypeVariable(T)>.groupBy(keySelector: (TypeVariable(T)) -> TypeVariable(K)): Map<TypeVariable(K), List<TypeVariable(T)>> defined in kotlin.collections\n",
      "public inline fun <T, K, V> Array<out TypeVariable(T)>.groupBy(keySelector: (TypeVariable(T)) -> TypeVariable(K), valueTransform: (TypeVariable(T)) -> TypeVariable(V)): Map<TypeVariable(K), List<TypeVariable(V)>> defined in kotlin.collections\n",
      "public inline fun <K> BooleanArray.groupBy(keySelector: (Boolean) -> TypeVariable(K)): Map<TypeVariable(K), List<Boolean>> defined in kotlin.collections\n",
      "public inline fun <K, V> BooleanArray.groupBy(keySelector: (Boolean) -> TypeVariable(K), valueTransform: (Boolean) -> TypeVariable(V)): Map<TypeVariable(K), List<TypeVariable(V)>> defined in kotlin.collections\n",
      "public inline fun <K> ByteArray.groupBy(keySelector: (Byte) -> TypeVariable(K)): Map<TypeVariable(K), List<Byte>> defined in kotlin.collections\n",
      "public inline fun <K, V> ByteArray.groupBy(keySelector: (Byte) -> TypeVariable(K), valueTransform: (Byte) -> TypeVariable(V)): Map<TypeVariable(K), List<TypeVariable(V)>> defined in kotlin.collections\n",
      "public inline fun <K> CharArray.groupBy(keySelector: (Char) -> TypeVariable(K)): Map<TypeVariable(K), List<Char>> defined in kotlin.collections\n",
      "public inline fun <K, V> CharArray.groupBy(keySelector: (Char) -> TypeVariable(K), valueTransform: (Char) -> TypeVariable(V)): Map<TypeVariable(K), List<TypeVariable(V)>> defined in kotlin.collections\n",
      "public inline fun <K> CharSequence.groupBy(keySelector: (Char) -> TypeVariable(K)): Map<TypeVariable(K), List<Char>> defined in kotlin.text\n",
      "public inline fun <K, V> CharSequence.groupBy(keySelector: (Char) -> TypeVariable(K), valueTransform: (Char) -> TypeVariable(V)): Map<TypeVariable(K), List<TypeVariable(V)>> defined in kotlin.text\n",
      "public inline fun <K> DoubleArray.groupBy(keySelector: (Double) -> TypeVariable(K)): Map<TypeVariable(K), List<Double>> defined in kotlin.collections\n",
      "public inline fun <K, V> DoubleArray.groupBy(keySelector: (Double) -> TypeVariable(K), valueTransform: (Double) -> TypeVariable(V)): Map<TypeVariable(K), List<TypeVariable(V)>> defined in kotlin.collections\n",
      "public inline fun <K> FloatArray.groupBy(keySelector: (Float) -> TypeVariable(K)): Map<TypeVariable(K), List<Float>> defined in kotlin.collections\n",
      "public inline fun <K, V> FloatArray.groupBy(keySelector: (Float) -> TypeVariable(K), valueTransform: (Float) -> TypeVariable(V)): Map<TypeVariable(K), List<TypeVariable(V)>> defined in kotlin.collections\n",
      "public inline fun <K> IntArray.groupBy(keySelector: (Int) -> TypeVariable(K)): Map<TypeVariable(K), List<Int>> defined in kotlin.collections\n",
      "public inline fun <K, V> IntArray.groupBy(keySelector: (Int) -> TypeVariable(K), valueTransform: (Int) -> TypeVariable(V)): Map<TypeVariable(K), List<TypeVariable(V)>> defined in kotlin.collections\n",
      "public inline fun <K> LongArray.groupBy(keySelector: (Long) -> TypeVariable(K)): Map<TypeVariable(K), List<Long>> defined in kotlin.collections\n",
      "public inline fun <K, V> LongArray.groupBy(keySelector: (Long) -> TypeVariable(K), valueTransform: (Long) -> TypeVariable(V)): Map<TypeVariable(K), List<TypeVariable(V)>> defined in kotlin.collections\n",
      "public inline fun <K> ShortArray.groupBy(keySelector: (Short) -> TypeVariable(K)): Map<TypeVariable(K), List<Short>> defined in kotlin.collections\n",
      "public inline fun <K, V> ShortArray.groupBy(keySelector: (Short) -> TypeVariable(K), valueTransform: (Short) -> TypeVariable(V)): Map<TypeVariable(K), List<TypeVariable(V)>> defined in kotlin.collections\n",
      "public inline fun <K> UByteArray.groupBy(keySelector: (UByte) -> TypeVariable(K)): Map<TypeVariable(K), List<UByte>> defined in kotlin.collections\n",
      "public inline fun <K, V> UByteArray.groupBy(keySelector: (UByte) -> TypeVariable(K), valueTransform: (UByte) -> TypeVariable(V)): Map<TypeVariable(K), List<TypeVariable(V)>> defined in kotlin.collections\n",
      "public inline fun <K> UIntArray.groupBy(keySelector: (UInt) -> TypeVariable(K)): Map<TypeVariable(K), List<UInt>> defined in kotlin.collections\n",
      "public inline fun <K, V> UIntArray.groupBy(keySelector: (UInt) -> TypeVariable(K), valueTransform: (UInt) -> TypeVariable(V)): Map<TypeVariable(K), List<TypeVariable(V)>> defined in kotlin.collections\n",
      "public inline fun <K> ULongArray.groupBy(keySelector: (ULong) -> TypeVariable(K)): Map<TypeVariable(K), List<ULong>> defined in kotlin.collections\n",
      "public inline fun <K, V> ULongArray.groupBy(keySelector: (ULong) -> TypeVariable(K), valueTransform: (ULong) -> TypeVariable(V)): Map<TypeVariable(K), List<TypeVariable(V)>> defined in kotlin.collections\n",
      "public inline fun <K> UShortArray.groupBy(keySelector: (UShort) -> TypeVariable(K)): Map<TypeVariable(K), List<UShort>> defined in kotlin.collections\n",
      "public inline fun <K, V> UShortArray.groupBy(keySelector: (UShort) -> TypeVariable(K), valueTransform: (UShort) -> TypeVariable(V)): Map<TypeVariable(K), List<TypeVariable(V)>> defined in kotlin.collections\n",
      "public inline fun <T, K> Iterable<TypeVariable(T)>.groupBy(keySelector: (TypeVariable(T)) -> TypeVariable(K)): Map<TypeVariable(K), List<TypeVariable(T)>> defined in kotlin.collections\n",
      "public inline fun <T, K, V> Iterable<TypeVariable(T)>.groupBy(keySelector: (TypeVariable(T)) -> TypeVariable(K), valueTransform: (TypeVariable(T)) -> TypeVariable(V)): Map<TypeVariable(K), List<TypeVariable(V)>> defined in kotlin.collections\n",
      "public inline fun <T, K> Sequence<TypeVariable(T)>.groupBy(keySelector: (TypeVariable(T)) -> TypeVariable(K)): Map<TypeVariable(K), List<TypeVariable(T)>> defined in kotlin.sequences\n",
      "public inline fun <T, K, V> Sequence<TypeVariable(T)>.groupBy(keySelector: (TypeVariable(T)) -> TypeVariable(K), valueTransform: (TypeVariable(T)) -> TypeVariable(V)): Map<TypeVariable(K), List<TypeVariable(V)>> defined in kotlin.sequences\n",
      "Line_14.jupyter.kts (20:9 - 14) Unresolved reference: barsH\n",
      "Line_14.jupyter.kts (21:13 - 14) Unresolved reference: y\n",
      "Line_14.jupyter.kts (22:13 - 14) Unresolved reference: x\n",
      "Line_14.jupyter.kts (23:13 - 22) Unresolved reference: fillColor\n",
      "Line_14.jupyter.kts (24:17 - 22) Unresolved reference: scale\n",
      "Line_14.jupyter.kts (24:25 - 44) Unresolved reference: categoricalColorHue\n",
      "Line_14.jupyter.kts (26:13 - 21) Unresolved reference: position\n",
      "Line_14.jupyter.kts (26:24 - 32) Unresolved reference: Position"
     ]
    }
   ],
   "execution_count": 14
  },
  {
   "metadata": {},
   "cell_type": "markdown",
   "source": [
    "## Analyze the score\n",
    "\n",
    "Let's break down the score per constraint:"
   ]
  },
  {
   "metadata": {
    "ExecuteTime": {
     "end_time": "2024-05-24T11:18:43.129011Z",
     "start_time": "2024-05-24T11:18:43.107217Z"
    }
   },
   "cell_type": "code",
   "source": [
    "import ai.timefold.solver.core.api.solver.SolutionManager\n",
    "\n",
    "val solutionManager = SolutionManager.create(solverFactory)\n",
    "val scoreAnalysis = solutionManager.analyze(solution)"
   ],
   "outputs": [
    {
     "name": "stderr",
     "output_type": "stream",
     "text": [
      "Backend Internal error: Exception during psi2ir\n",
      "File being compiled: Line_15.jupyter.kts\n",
      "The root cause java.lang.IllegalStateException was thrown at: org.jetbrains.kotlin.ir.util.SymbolTableSlice$Scoped.introduceLocal(SymbolTableSlice.kt:208)"
     ]
    }
   ],
   "execution_count": 15
  },
  {
   "metadata": {},
   "cell_type": "markdown",
   "source": "And visualize it:"
  },
  {
   "metadata": {
    "ExecuteTime": {
     "end_time": "2024-05-24T11:18:43.167929Z",
     "start_time": "2024-05-24T11:18:43.129760Z"
    }
   },
   "cell_type": "code",
   "source": [
    "HTML(buildString {\n",
    "    append(\"<p style='font-size: x-large'>Score: ${scoreAnalysis.score}</p>\")\n",
    "    append(\"<ul>\")\n",
    "    for (constraint in scoreAnalysis.constraintMap().values) {\n",
    "        append(\"<li>${constraint.constraintRef().constraintName}: ${constraint.score.toShortString()}</li>\")\n",
    "    }\n",
    "    append(\"</ul>\")\n",
    "})"
   ],
   "outputs": [
    {
     "name": "stderr",
     "output_type": "stream",
     "text": [
      "Backend Internal error: Exception during psi2ir\n",
      "File being compiled: Line_16.jupyter.kts\n",
      "The root cause java.lang.IllegalStateException was thrown at: org.jetbrains.kotlin.ir.util.SymbolTableSlice$Scoped.introduceLocal(SymbolTableSlice.kt:208)"
     ]
    }
   ],
   "execution_count": 16
  },
  {
   "cell_type": "markdown",
   "source": [
    "## Conclusion\n",
    "\n",
    "To learn more about planning optimization, visit [timefold.ai](https://timefold.ai)."
   ],
   "metadata": {
    "collapsed": false
   }
  }
 ],
 "metadata": {
  "kernelspec": {
   "display_name": "Kotlin",
   "language": "kotlin",
   "name": "kotlin"
  },
  "language_info": {
   "name": "kotlin",
   "version": "1.9.0",
   "mimetype": "text/x-kotlin",
   "file_extension": ".kt",
   "pygments_lexer": "kotlin",
   "codemirror_mode": "text/x-kotlin",
   "nbconvert_exporter": ""
  }
 },
 "nbformat": 4,
 "nbformat_minor": 0
}
